{
 "cells": [
  {
   "cell_type": "code",
   "execution_count": null,
   "id": "e89b62ed",
   "metadata": {},
   "outputs": [],
   "source": []
  }
 ],
 "metadata": {
  "language_info": {
   "name": "python"
  }
 },
 "nbformat": 4,
 "nbformat_minor": 5
}
