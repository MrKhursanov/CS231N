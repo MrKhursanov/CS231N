{
 "cells": [
  {
   "cell_type": "code",
   "execution_count": 28,
   "id": "e89b62ed",
   "metadata": {},
   "outputs": [
    {
     "name": "stdout",
     "output_type": "stream",
     "text": [
      "[0 0]\n"
     ]
    }
   ],
   "source": [
    "# Nearest Neighbor Classifier\n",
    "\n",
    "import numpy as np\n",
    "\n",
    "class NearestNeighbor:\n",
    "    def __init__(self):\n",
    "        \"\"\"Initialize the Nearest Neighbor classifier.\"\"\"\n",
    "        pass\n",
    "\n",
    "    def train(self, X, y):\n",
    "        \"\"\"\n",
    "        Train the classifier by storing the training data.\"\"\"\"Python codes.ipynb\"\n",
    "        self.X_train = X\n",
    "        self.Y_train = y\n",
    "\n",
    "    def predict(self, X):\n",
    "        \"\"\"\n",
    "        Predict the labels for the input data X using the nearest neighbor algorithm.\"\"\"\"Python codes.ipynb\"\n",
    "        num_test = X.shape[0]\n",
    "        Ypred = np.zeros(num_test, dtype=self.Y_train.dtype)\n",
    "        for i in range(num_test):\n",
    "            # Compute distances between the i-th test point and all training points\n",
    "            distances = np.sum(np.abs(self.X_train - X[i, :]), axis=1)\n",
    "            min_index = np.argmin(distances)\n",
    "            Ypred[i] = self.Y_train[min_index]\n",
    "        return Ypred\n",
    "\n",
    "NearestNeighbor = NearestNeighbor()\n",
    "# Example usage:\n",
    "X_train = np.array([[1, 2], [3, 4], [5, 6]])\n",
    "y_train = np.array([0, 1, 0])\n",
    "nn = NearestNeighbor\n",
    "nn.train(X_train, y_train)\n",
    "X_test = np.array([[1, 211], [180, 5]])\n",
    "predictions = nn.predict(X_test)\n",
    "print(predictions) \n",
    "    "
   ]
  },
  {
   "cell_type": "code",
   "execution_count": null,
   "id": "dcc01abd",
   "metadata": {},
   "outputs": [
    {
     "name": "stdout",
     "output_type": "stream",
     "text": [
      "[[ 1  2  3]\n",
      " [ 4  5  6]\n",
      " [ 7  8  9]\n",
      " [10 11 12]]\n",
      "3\n"
     ]
    }
   ],
   "source": [
    "import numpy as np\n",
    "\n",
    "# Create a 3x3 numpy matrix\n",
    "matrix = np.array([[1, 2, 3],\n",
    "                   [4, 5, 6],\n",
    "                   [7, 8, 9],\n",
    "                   [10, 11, 12]])\n",
    "print(matrix)\n",
    "\n",
    "print(matrix.shape[1]) \n",
    "\n",
    "np1 = np.array(())"
   ]
  }
 ],
 "metadata": {
  "kernelspec": {
   "display_name": "base",
   "language": "python",
   "name": "python3"
  },
  "language_info": {
   "codemirror_mode": {
    "name": "ipython",
    "version": 3
   },
   "file_extension": ".py",
   "mimetype": "text/x-python",
   "name": "python",
   "nbconvert_exporter": "python",
   "pygments_lexer": "ipython3",
   "version": "3.12.4"
  }
 },
 "nbformat": 4,
 "nbformat_minor": 5
}
